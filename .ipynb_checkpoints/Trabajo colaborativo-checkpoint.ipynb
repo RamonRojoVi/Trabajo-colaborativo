{
 "cells": [
  {
   "cell_type": "markdown",
   "id": "bb299c33",
   "metadata": {},
   "source": [
    "Problema de optimizacion y ajuste de curva de una contruccion de un edificio \n",
    "\n",
    "\n",
    "Objetivo general:\n",
    "\n",
    "Encontrar la altura, superficie, numero de apartamentos y beneficio maxico de un edificio\n",
    "   \n",
    "Objetivo especifico:\n",
    "\n",
    "-Aprender a obtener areas a base de funciones respecto a nuestra carrera\n",
    "-Aplicar lo visto en clase a un problema enfocado en la ingenieria civil\n",
    "\n",
    "\n",
    "Un promotor inmobiliario desea construir un edificio de apartamentos en una parcela de terreno rectangular. El edificio tendrá una altura máxima de 100 metros y una superficie máxima de 1000 metros cuadrados. El promotor desea obtener el máximo beneficio posible de la venta de los apartamentos, pero también quiere minimizar el coste de la construcción.\n",
    "El coste de la construcción se puede estimar en función de la altura y la superficie del edificio. El coste por metro cuadrado de construcción es de 1000 euros, y el coste por metro de altura es de 500 euros.\n",
    "El beneficio que obtendrá el promotor se puede estimar en función del número de apartamentos que pueda vender. El precio de venta de cada apartamento es de 200.000 euros.\n",
    "El problema de optimización consiste en encontrar la altura y la superficie del edificio que maximicen el beneficio del promotor, teniendo en cuenta las restricciones de altura y superficie máximas.\n",
    "\n"
   ]
  },
  {
   "cell_type": "code",
   "execution_count": null,
   "id": "dca94534",
   "metadata": {},
   "outputs": [],
   "source": [
    "import numpy as np\n",
    "import matplotlib.pyplot as plt\n",
    "from scipy.optimize import minimize\n",
    "\n",
    "# Función objetivo a maximizar (beneficio total)\n",
    "def objetivo(x):\n",
    "    altura, superficie = x\n",
    "    beneficio = -altura * superficie * 1000 + (200000 * altura * superficie)\n",
    "    return -beneficio  # Negamos el beneficio para convertirlo en un problema de maximización\n",
    "\n",
    "# Restricciones\n",
    "restricciones = (\n",
    "    {'type': 'ineq', 'fun': lambda x: 100 - x[0]},  # Altura máxima\n",
    "    {'type': 'ineq', 'fun': lambda x: 1000 - x[1]}  # Superficie máxima\n",
    ")\n",
    "\n",
    "# Valores iniciales\n",
    "x0 = [50, 500]  # Valores iniciales para altura y superficie\n",
    "\n",
    "# Rango de valores para altura y superficie\n",
    "altura_range = np.linspace(0, 100, 100)\n",
    "superficie_range = np.linspace(0, 1000, 100)\n",
    "X, Y = np.meshgrid(altura_range, superficie_range)\n",
    "Z = np.zeros_like(X)\n",
    "\n",
    "# Calcular el beneficio para cada combinación de altura y superficie\n",
    "for i in range(len(altura_range)):\n",
    "    for j in range(len(superficie_range)):\n",
    "        x = [altura_range[i], superficie_range[j]]\n",
    "        Z[i, j] = -objetivo(x)\n",
    "\n",
    "# Resolución del problema de optimización\n",
    "resultado = minimize(objetivo, x0, constraints=restricciones, method='SLSQP')\n",
    "\n",
    "# Mostrar resultados\n",
    "altura_optima, superficie_optima = resultado.x\n",
    "beneficio_maximo = -resultado.fun  # Convertir nuevamente en positivo\n",
    "\n",
    "print(\"Altura óptima:\", altura_optima, \"metros\")\n",
    "print(\"Superficie óptima:\", superficie_optima, \"metros cuadrados\")\n",
    "print(\"Beneficio máximo:\", beneficio_maximo, \"euros\")\n",
    "\n",
    "# Graficar el beneficio total en función de la altura y la superficie\n",
    "plt.figure()\n",
    "plt.contourf(X, Y, Z, levels=3, cmap='binary')\n",
    "plt.colorbar(label='Beneficio Total (euros)')\n",
    "plt.xlabel('Altura (metros)')\n",
    "plt.ylabel('Superficie (metros cuadrados)')\n",
    "plt.title('Beneficio Total en función de Altura y Superficie')\n",
    "plt.plot(altura_optima, superficie_optima, 'ro', label='Altura óptima y Superficie óptima')\n",
    "plt.legend()\n",
    "plt.show()"
   ]
  },
  {
   "cell_type": "markdown",
   "id": "899f9c7f",
   "metadata": {},
   "source": [
    "Como conclusión se aprendio a realizar las optimizaciones y el ajuste de curvas, mediante los procedimeintos enseñados en el primer módulo, Se cumplieron los objetivos obteniendo el punto óptimo de la construcción de un edificio."
   ]
  },
  {
   "cell_type": "code",
   "execution_count": null,
   "id": "12b60445",
   "metadata": {},
   "outputs": [],
   "source": []
  }
 ],
 "metadata": {
  "kernelspec": {
   "display_name": "Python 3 (ipykernel)",
   "language": "python",
   "name": "python3"
  },
  "language_info": {
   "codemirror_mode": {
    "name": "ipython",
    "version": 3
   },
   "file_extension": ".py",
   "mimetype": "text/x-python",
   "name": "python",
   "nbconvert_exporter": "python",
   "pygments_lexer": "ipython3",
   "version": "3.11.4"
  }
 },
 "nbformat": 4,
 "nbformat_minor": 5
}
