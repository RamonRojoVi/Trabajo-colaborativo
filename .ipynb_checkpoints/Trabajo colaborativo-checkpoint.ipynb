{
 "cells": [
  {
   "cell_type": "markdown",
   "id": "bb299c33",
   "metadata": {},
   "source": [
    "Problema de optimizacion y ajuste de curva de una contruccion de un edificio \n",
    "\n",
    "\n",
    "Objetivo general:\n",
    "\n",
    "Encontrar la altura, superficie, numero de apartamentos y beneficio maxico de un edificio\n",
    "   \n",
    "Objetivo especifico:\n",
    "\n",
    "-Aprender a obtener areas a base de funciones respecto a nuestra carrera\n",
    "-Aplicar lo visto en clase a un problema enfocado en la ingenieria civil\n",
    "\n",
    "\n",
    "Un promotor inmobiliario desea construir un edificio de apartamentos en una parcela de terreno rectangular. El edificio tendrá una altura máxima de 100 metros y una superficie máxima de 1000 metros cuadrados. El promotor desea obtener el máximo beneficio posible de la venta de los apartamentos, pero también quiere minimizar el coste de la construcción.\n",
    "El coste de la construcción se puede estimar en función de la altura y la superficie del edificio. El coste por metro cuadrado de construcción es de 1000 euros, y el coste por metro de altura es de 500 euros.\n",
    "El beneficio que obtendrá el promotor se puede estimar en función del número de apartamentos que pueda vender. El precio de venta de cada apartamento es de 200.000 euros.\n",
    "El problema de optimización consiste en encontrar la altura y la superficie del edificio que maximicen el beneficio del promotor, teniendo en cuenta las restricciones de altura y superficie máximas.\n",
    "\n"
   ]
  },
  {
   "cell_type": "code",
   "execution_count": null,
   "id": "8d7121bb",
   "metadata": {},
   "outputs": [],
   "source": []
  }
 ],
 "metadata": {
  "kernelspec": {
   "display_name": "Python 3 (ipykernel)",
   "language": "python",
   "name": "python3"
  },
  "language_info": {
   "codemirror_mode": {
    "name": "ipython",
    "version": 3
   },
   "file_extension": ".py",
   "mimetype": "text/x-python",
   "name": "python",
   "nbconvert_exporter": "python",
   "pygments_lexer": "ipython3",
   "version": "3.11.4"
  }
 },
 "nbformat": 4,
 "nbformat_minor": 5
}
